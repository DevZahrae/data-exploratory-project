{
 "cells": [
  {
   "cell_type": "code",
   "id": "initial_id",
   "metadata": {
    "collapsed": true,
    "ExecuteTime": {
     "end_time": "2024-08-25T22:11:15.793106Z",
     "start_time": "2024-08-25T22:11:15.782481Z"
    }
   },
   "source": [
    "import pandas as pd\n",
    "import matplotlib.pyplot as plt"
   ],
   "outputs": [],
   "execution_count": 17
  },
  {
   "metadata": {
    "ExecuteTime": {
     "end_time": "2024-08-25T22:11:16.017689Z",
     "start_time": "2024-08-25T22:11:16.009837Z"
    }
   },
   "cell_type": "code",
   "source": [
    "#chemin de données\n",
    "data_path = '../docs/data-sell4all.xlsx'"
   ],
   "id": "2df961f808da120f",
   "outputs": [],
   "execution_count": 18
  },
  {
   "metadata": {},
   "cell_type": "markdown",
   "source": "*Partie I :*",
   "id": "7e6644dc64c3b9bd"
  },
  {
   "metadata": {
    "ExecuteTime": {
     "end_time": "2024-08-25T22:11:16.083770Z",
     "start_time": "2024-08-25T22:11:16.043975Z"
    }
   },
   "cell_type": "code",
   "source": [
    "#afichage de données\n",
    "df = pd.read_excel(data_path)\n",
    "df.head(5)"
   ],
   "id": "b9caf64f562225e2",
   "outputs": [
    {
     "data": {
      "text/plain": [
       "      Pays  Age    Genre Dépenses des clients\n",
       "0   France    32  Female               150.50\n",
       "1  Germany    45    Male               200.75\n",
       "2    Spain    28  Female                75.25\n",
       "3    Italy    39    Male               180.00\n",
       "4       UK    52  Female               250.30"
      ],
      "text/html": [
       "<div>\n",
       "<style scoped>\n",
       "    .dataframe tbody tr th:only-of-type {\n",
       "        vertical-align: middle;\n",
       "    }\n",
       "\n",
       "    .dataframe tbody tr th {\n",
       "        vertical-align: top;\n",
       "    }\n",
       "\n",
       "    .dataframe thead th {\n",
       "        text-align: right;\n",
       "    }\n",
       "</style>\n",
       "<table border=\"1\" class=\"dataframe\">\n",
       "  <thead>\n",
       "    <tr style=\"text-align: right;\">\n",
       "      <th></th>\n",
       "      <th>Pays</th>\n",
       "      <th>Age</th>\n",
       "      <th>Genre</th>\n",
       "      <th>Dépenses des clients</th>\n",
       "    </tr>\n",
       "  </thead>\n",
       "  <tbody>\n",
       "    <tr>\n",
       "      <th>0</th>\n",
       "      <td>France</td>\n",
       "      <td>32</td>\n",
       "      <td>Female</td>\n",
       "      <td>150.50</td>\n",
       "    </tr>\n",
       "    <tr>\n",
       "      <th>1</th>\n",
       "      <td>Germany</td>\n",
       "      <td>45</td>\n",
       "      <td>Male</td>\n",
       "      <td>200.75</td>\n",
       "    </tr>\n",
       "    <tr>\n",
       "      <th>2</th>\n",
       "      <td>Spain</td>\n",
       "      <td>28</td>\n",
       "      <td>Female</td>\n",
       "      <td>75.25</td>\n",
       "    </tr>\n",
       "    <tr>\n",
       "      <th>3</th>\n",
       "      <td>Italy</td>\n",
       "      <td>39</td>\n",
       "      <td>Male</td>\n",
       "      <td>180.00</td>\n",
       "    </tr>\n",
       "    <tr>\n",
       "      <th>4</th>\n",
       "      <td>UK</td>\n",
       "      <td>52</td>\n",
       "      <td>Female</td>\n",
       "      <td>250.30</td>\n",
       "    </tr>\n",
       "  </tbody>\n",
       "</table>\n",
       "</div>"
      ]
     },
     "execution_count": 19,
     "metadata": {},
     "output_type": "execute_result"
    }
   ],
   "execution_count": 19
  },
  {
   "metadata": {
    "ExecuteTime": {
     "end_time": "2024-08-25T22:11:16.127695Z",
     "start_time": "2024-08-25T22:11:16.103683Z"
    }
   },
   "cell_type": "code",
   "source": [
    "#la fiche technique de données\n",
    "df.info()"
   ],
   "id": "2e6a174d81530dc7",
   "outputs": [
    {
     "name": "stdout",
     "output_type": "stream",
     "text": [
      "<class 'pandas.core.frame.DataFrame'>\n",
      "RangeIndex: 65 entries, 0 to 64\n",
      "Data columns (total 4 columns):\n",
      " #   Column                Non-Null Count  Dtype \n",
      "---  ------                --------------  ----- \n",
      " 0   Pays                  65 non-null     object\n",
      " 1    Age                  62 non-null     object\n",
      " 2   Genre                 64 non-null     object\n",
      " 3   Dépenses des clients  63 non-null     object\n",
      "dtypes: object(4)\n",
      "memory usage: 2.2+ KB\n"
     ]
    }
   ],
   "execution_count": 20
  },
  {
   "metadata": {},
   "cell_type": "markdown",
   "source": [
    "### Résumé technique de données\n",
    "\n",
    "- Lignes : 65\n",
    "- Colonnes : 4\n",
    "- Toutes les colonnes sont actuellement de type object. Les colonnes **Âge** et **Dépenses des clients** devraient être converties en types numériques pour une analyse correcte.\n",
    "\n",
    "- Valeurs Manquantes :\n",
    "\n",
    "    - **Âge** : 3 valeurs manquantes\n",
    "    - **Genre** : 1 valeur manquante\n",
    "    - **Dépenses des clients** : 2 valeurs manquantes"
   ],
   "id": "ba38257695fc52a4"
  },
  {
   "metadata": {
    "ExecuteTime": {
     "end_time": "2024-08-25T22:11:16.145679Z",
     "start_time": "2024-08-25T22:11:16.137167Z"
    }
   },
   "cell_type": "code",
   "source": [
    "#suppression des lignes incohérentes\n",
    "df_clean = df.iloc[:55]"
   ],
   "id": "575934758d55d359",
   "outputs": [],
   "execution_count": 21
  },
  {
   "metadata": {
    "ExecuteTime": {
     "end_time": "2024-08-25T22:11:16.279695Z",
     "start_time": "2024-08-25T22:11:16.254868Z"
    }
   },
   "cell_type": "code",
   "source": [
    "#statistiques sur la colonne Age\n",
    "moy_age = df_clean[' Age '].mean()\n",
    "median_age = df_clean[' Age '].median()\n",
    "\n",
    "print(\"la moyenne d'age est :\", moy_age )\n",
    "print(\"la médian d'age est :\", median_age)"
   ],
   "id": "b5936aafa4e6e75b",
   "outputs": [
    {
     "name": "stdout",
     "output_type": "stream",
     "text": [
      "la moyenne d'age est : 37.629629629629626\n",
      "la médian d'age est : 36.5\n"
     ]
    }
   ],
   "execution_count": 22
  },
  {
   "metadata": {},
   "cell_type": "code",
   "source": "df_clean['Dépenses des clients'] = df_clean['Dépenses des clients'].astype(float)",
   "id": "39a410bec6dffc93",
   "outputs": [],
   "execution_count": null
  },
  {
   "metadata": {
    "ExecuteTime": {
     "end_time": "2024-08-25T22:11:16.568037Z",
     "start_time": "2024-08-25T22:11:16.559651Z"
    }
   },
   "cell_type": "code",
   "source": [
    "#statistiques sur la colonne de dépenses des clients\n",
    "moy_depenses = df_clean['Dépenses des clients'].mean()\n",
    "median_depenses = df_clean['Dépenses des clients'].median()\n",
    "\n",
    "print(\"la moyenne de dépenses des clients est :\", moy_depenses )\n",
    "print(\"la médian de dépenses des clients est :\", median_depenses)"
   ],
   "id": "cb8fd36ca33bada1",
   "outputs": [
    {
     "name": "stdout",
     "output_type": "stream",
     "text": [
      "la moyenne de dépenses des clients est : 157.02407407407406\n",
      "la médian de dépenses des clients est : 162.875\n"
     ]
    }
   ],
   "execution_count": 24
  },
  {
   "metadata": {},
   "cell_type": "markdown",
   "source": "*Partie II :*",
   "id": "b6a3bd4128e415e8"
  },
  {
   "metadata": {
    "ExecuteTime": {
     "end_time": "2024-08-25T22:11:16.699656Z",
     "start_time": "2024-08-25T22:11:16.692873Z"
    }
   },
   "cell_type": "code",
   "source": "depenses_par_pays = df_clean.groupby('Pays')['Dépenses des clients'].sum()",
   "id": "649432665a8df0c0",
   "outputs": [],
   "execution_count": 25
  },
  {
   "metadata": {
    "ExecuteTime": {
     "end_time": "2024-08-25T22:11:16.766378Z",
     "start_time": "2024-08-25T22:11:16.745471Z"
    }
   },
   "cell_type": "code",
   "source": "depenses_par_pays.head(5)",
   "id": "cac54f71128b5726",
   "outputs": [
    {
     "data": {
      "text/plain": [
       "Pays\n",
       "Australia     210.50\n",
       "Brazil        195.25\n",
       "Canada          0.00\n",
       "France       1543.00\n",
       "Germany      1608.75\n",
       "Name: Dépenses des clients, dtype: float64"
      ]
     },
     "execution_count": 26,
     "metadata": {},
     "output_type": "execute_result"
    }
   ],
   "execution_count": 26
  },
  {
   "metadata": {
    "ExecuteTime": {
     "end_time": "2024-08-25T22:11:17.034551Z",
     "start_time": "2024-08-25T22:11:16.807661Z"
    }
   },
   "cell_type": "code",
   "source": [
    "plt.figure(figsize=(10, 6))\n",
    "depenses_par_pays.plot(kind='bar', color='red')\n",
    "\n",
    "plt.title('Dépenses des Clients par Pays')\n",
    "plt.xlabel('Pays')\n",
    "plt.ylabel('Dépenses Totales')\n",
    "\n",
    "plt.show()"
   ],
   "id": "cbbfa3ad89b15d81",
   "outputs": [
    {
     "data": {
      "text/plain": [
       "<Figure size 1000x600 with 1 Axes>"
      ],
      "image/png": "[encoded data removed]"
     },
     "metadata": {},
     "output_type": "display_data"
    }
   ],
   "execution_count": 27
  },
  {
   "metadata": {
    "ExecuteTime": {
     "end_time": "2024-08-25T22:11:17.059536Z",
     "start_time": "2024-08-25T22:11:17.034835Z"
    }
   },
   "cell_type": "code",
   "source": [
    "#suppression les lignes d’utilisateurs ayant dépensé moins de 10€ sur le site\n",
    "df_filter = df_clean[df_clean['Dépenses des clients'] >= 10]\n",
    "df_filter.head(5)"
   ],
   "id": "3f69ead67f562efa",
   "outputs": [
    {
     "data": {
      "text/plain": [
       "      Pays  Age    Genre  Dépenses des clients\n",
       "0   France    32  Female                150.50\n",
       "1  Germany    45    Male                200.75\n",
       "2    Spain    28  Female                 75.25\n",
       "3    Italy    39    Male                180.00\n",
       "4       UK    52  Female                250.30"
      ],
      "text/html": [
       "<div>\n",
       "<style scoped>\n",
       "    .dataframe tbody tr th:only-of-type {\n",
       "        vertical-align: middle;\n",
       "    }\n",
       "\n",
       "    .dataframe tbody tr th {\n",
       "        vertical-align: top;\n",
       "    }\n",
       "\n",
       "    .dataframe thead th {\n",
       "        text-align: right;\n",
       "    }\n",
       "</style>\n",
       "<table border=\"1\" class=\"dataframe\">\n",
       "  <thead>\n",
       "    <tr style=\"text-align: right;\">\n",
       "      <th></th>\n",
       "      <th>Pays</th>\n",
       "      <th>Age</th>\n",
       "      <th>Genre</th>\n",
       "      <th>Dépenses des clients</th>\n",
       "    </tr>\n",
       "  </thead>\n",
       "  <tbody>\n",
       "    <tr>\n",
       "      <th>0</th>\n",
       "      <td>France</td>\n",
       "      <td>32</td>\n",
       "      <td>Female</td>\n",
       "      <td>150.50</td>\n",
       "    </tr>\n",
       "    <tr>\n",
       "      <th>1</th>\n",
       "      <td>Germany</td>\n",
       "      <td>45</td>\n",
       "      <td>Male</td>\n",
       "      <td>200.75</td>\n",
       "    </tr>\n",
       "    <tr>\n",
       "      <th>2</th>\n",
       "      <td>Spain</td>\n",
       "      <td>28</td>\n",
       "      <td>Female</td>\n",
       "      <td>75.25</td>\n",
       "    </tr>\n",
       "    <tr>\n",
       "      <th>3</th>\n",
       "      <td>Italy</td>\n",
       "      <td>39</td>\n",
       "      <td>Male</td>\n",
       "      <td>180.00</td>\n",
       "    </tr>\n",
       "    <tr>\n",
       "      <th>4</th>\n",
       "      <td>UK</td>\n",
       "      <td>52</td>\n",
       "      <td>Female</td>\n",
       "      <td>250.30</td>\n",
       "    </tr>\n",
       "  </tbody>\n",
       "</table>\n",
       "</div>"
      ]
     },
     "execution_count": 28,
     "metadata": {},
     "output_type": "execute_result"
    }
   ],
   "execution_count": 28
  },
  {
   "metadata": {
    "ExecuteTime": {
     "end_time": "2024-08-25T22:11:17.076275Z",
     "start_time": "2024-08-25T22:11:17.059536Z"
    }
   },
   "cell_type": "code",
   "source": [
    "#supression des doublons \n",
    "df_unique = df_filter.drop_duplicates()"
   ],
   "id": "89d6e9204c3460cf",
   "outputs": [],
   "execution_count": 29
  },
  {
   "metadata": {
    "ExecuteTime": {
     "end_time": "2024-08-25T22:11:17.092815Z",
     "start_time": "2024-08-25T22:11:17.076275Z"
    }
   },
   "cell_type": "code",
   "source": [
    "#sauvgarde les données dans un fichier CSV\n",
    "df_unique.to_csv('../docs/data-sell4all-clean.csv', index=False)"
   ],
   "id": "6a7e4d710c7cf769",
   "outputs": [],
   "execution_count": 30
  },
  {
   "metadata": {
    "ExecuteTime": {
     "end_time": "2024-08-25T22:11:17.109543Z",
     "start_time": "2024-08-25T22:11:17.092815Z"
    }
   },
   "cell_type": "code",
   "source": "",
   "id": "60e7524be2dca0b0",
   "outputs": [],
   "execution_count": 30
  }
 ],
 "metadata": {
  "kernelspec": {
   "display_name": "Python 3",
   "language": "python",
   "name": "python3"
  },
  "language_info": {
   "codemirror_mode": {
    "name": "ipython",
    "version": 2
   },
   "file_extension": ".py",
   "mimetype": "text/x-python",
   "name": "python",
   "nbconvert_exporter": "python",
   "pygments_lexer": "ipython2",
   "version": "2.7.6"
  }
 },
 "nbformat": 4,
 "nbformat_minor": 5
}
